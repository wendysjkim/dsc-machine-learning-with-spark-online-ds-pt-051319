{
 "cells": [
  {
   "cell_type": "markdown",
   "metadata": {},
   "source": [
    "# Machine Learning with Spark\n",
    "\n",
    "## Introduction\n",
    "\n",
    "You've now explored how to perform operations on Spark RDDs for simple Map-Reduce tasks. Luckily, there are far more advanced use cases for spark, and many of them are found in the ml library, which we are going to explore in this lesson.\n",
    "\n",
    "\n",
    "## Objectives\n",
    "* Describe the use case for Machine Learning with Spark\n",
    "* Load and manipulate data with Spark DataFrames\n",
    "* Train a machine learning model with Spark\n",
    "\n",
    "\n",
    "## A Tale of Two Libraries\n",
    "\n",
    "If you look at the pyspark documentation, you'll notice that there are two different libraries for machine learning, [mllib](https://spark.apache.org/docs/latest/api/python/pyspark.mllib.html) and [ml](https://spark.apache.org/docs/latest/api/python/pyspark.ml.html). These libraries are extremely similar to one another, the only difference being that the mllib library is built upon the RDDs you just practiced using; whereas, the ml library is built on higher level Spark DataFrames, which has methods and attributes similar to pandas. Spark has stated that in the future, it is going to devote more effort to the `ml` library and that `mllib` will become deprecated. It's important to note that these libraries are much younger than pandas and sci-kit learn and there are not as many features present in either.\n",
    "\n",
    "## Spark DataFrames\n",
    "\n",
    "In the previous lessons, you've been introduced to SparkContext as the primary way to connect with a Spark Application. Here, we will be using SparkSession, which is from the [sql](https://spark.apache.org/docs/latest/api/python/pyspark.sql.html) component of pyspark. The SparkSession acts the same way as SparkContext; it a bridge between python and the Spark Application. It's just built on top of the Spark SQL API, a higher-level API than RDDs. In fact, a SparkContext object is spun up around which the SparkSession object is wrapped. Let's go through the process of manipulating some data here. For this example, we're going to be using the [Forest Fire dataset](https://archive.ics.uci.edu/ml/datasets/Forest+Fires) from UCI, which contains data about the area burned by wildfires in the Northeast region of Portugal in relation to numerous other factors.\n",
    "\n",
    "To begin with, let's create a SparkSession so that we can spin up our spark application.\n"
   ]
  },
  {
   "cell_type": "code",
   "execution_count": 1,
   "metadata": {},
   "outputs": [],
   "source": [
    "# importing the necessary libraries\n",
    "from pyspark import SparkContext\n",
    "from pyspark.sql import SparkSession\n",
    "# sc = SparkContext('local[*]')\n",
    "# spark = SparkSession(sc)"
   ]
  },
  {
   "cell_type": "markdown",
   "metadata": {},
   "source": [
    "An alternate, one liner way to create a SparkSession is below"
   ]
  },
  {
   "cell_type": "code",
   "execution_count": 2,
   "metadata": {},
   "outputs": [],
   "source": [
    "spark = SparkSession.builder.master(\"local\").getOrCreate()"
   ]
  },
  {
   "cell_type": "markdown",
   "metadata": {},
   "source": [
    "Now, we'll load the read in our data into the pyspark DataFrame object."
   ]
  },
  {
   "cell_type": "code",
   "execution_count": 3,
   "metadata": {},
   "outputs": [
    {
     "data": {
      "text/plain": [
       "pyspark.sql.dataframe.DataFrame"
      ]
     },
     "execution_count": 3,
     "metadata": {},
     "output_type": "execute_result"
    }
   ],
   "source": [
    "## reading in pyspark df\n",
    "spark_df = spark.read.csv('./forestfires.csv',header='true',inferSchema='true')\n",
    "\n",
    "## observing the datatype of df\n",
    "type(spark_df)"
   ]
  },
  {
   "cell_type": "markdown",
   "metadata": {},
   "source": [
    "You'll notice that some of the methods are extremely similar or the same as those found within Pandas."
   ]
  },
  {
   "cell_type": "code",
   "execution_count": 4,
   "metadata": {},
   "outputs": [
    {
     "data": {
      "text/plain": [
       "Row(X=7, Y=5, month='mar', day='fri', FFMC=86.2, DMC=26.2, DC=94.3, ISI=5.1, temp=8.2, RH=51, wind=6.7, rain=0.0, area=0.0)"
      ]
     },
     "execution_count": 4,
     "metadata": {},
     "output_type": "execute_result"
    }
   ],
   "source": [
    "spark_df.head()"
   ]
  },
  {
   "cell_type": "code",
   "execution_count": 5,
   "metadata": {},
   "outputs": [
    {
     "data": {
      "text/plain": [
       "['X',\n",
       " 'Y',\n",
       " 'month',\n",
       " 'day',\n",
       " 'FFMC',\n",
       " 'DMC',\n",
       " 'DC',\n",
       " 'ISI',\n",
       " 'temp',\n",
       " 'RH',\n",
       " 'wind',\n",
       " 'rain',\n",
       " 'area']"
      ]
     },
     "execution_count": 5,
     "metadata": {},
     "output_type": "execute_result"
    }
   ],
   "source": [
    "spark_df.columns"
   ]
  },
  {
   "cell_type": "markdown",
   "metadata": {},
   "source": [
    "Selecting multiple columns is the same"
   ]
  },
  {
   "cell_type": "code",
   "execution_count": 6,
   "metadata": {},
   "outputs": [
    {
     "data": {
      "text/plain": [
       "DataFrame[month: string, day: string, rain: double]"
      ]
     },
     "execution_count": 6,
     "metadata": {},
     "output_type": "execute_result"
    }
   ],
   "source": [
    "spark_df[['month','day','rain']]"
   ]
  },
  {
   "cell_type": "markdown",
   "metadata": {},
   "source": [
    "But selecting one column is different. If you want to maintain the methods of a spark DataFrame, you should use the `select` method. If you want to just select the column, you can use the same method you would use in pandas (this is primarily what you would use if you're attempting to create a Boolean mask).\n"
   ]
  },
  {
   "cell_type": "code",
   "execution_count": 7,
   "metadata": {
    "scrolled": true
   },
   "outputs": [],
   "source": [
    "d = spark_df.select('rain')"
   ]
  },
  {
   "cell_type": "code",
   "execution_count": 8,
   "metadata": {},
   "outputs": [
    {
     "data": {
      "text/plain": [
       "Column<b'rain'>"
      ]
     },
     "execution_count": 8,
     "metadata": {},
     "output_type": "execute_result"
    }
   ],
   "source": [
    "spark_df['rain']"
   ]
  },
  {
   "cell_type": "markdown",
   "metadata": {},
   "source": [
    "Let's take a look at all of our data types in this dataframe"
   ]
  },
  {
   "cell_type": "code",
   "execution_count": 9,
   "metadata": {},
   "outputs": [
    {
     "data": {
      "text/plain": [
       "[('X', 'int'),\n",
       " ('Y', 'int'),\n",
       " ('month', 'string'),\n",
       " ('day', 'string'),\n",
       " ('FFMC', 'double'),\n",
       " ('DMC', 'double'),\n",
       " ('DC', 'double'),\n",
       " ('ISI', 'double'),\n",
       " ('temp', 'double'),\n",
       " ('RH', 'int'),\n",
       " ('wind', 'double'),\n",
       " ('rain', 'double'),\n",
       " ('area', 'double')]"
      ]
     },
     "execution_count": 9,
     "metadata": {},
     "output_type": "execute_result"
    }
   ],
   "source": [
    "spark_df.dtypes"
   ]
  },
  {
   "cell_type": "markdown",
   "metadata": {},
   "source": [
    "## Aggregations with our DataFrame"
   ]
  },
  {
   "cell_type": "markdown",
   "metadata": {},
   "source": [
    "Let's investigate to see if there is any correlation between what month it is and the area of fire."
   ]
  },
  {
   "cell_type": "code",
   "execution_count": 10,
   "metadata": {},
   "outputs": [
    {
     "data": {
      "text/plain": [
       "DataFrame[month: string, avg(area): double]"
      ]
     },
     "execution_count": 10,
     "metadata": {},
     "output_type": "execute_result"
    }
   ],
   "source": [
    "spark_df_months = spark_df.groupBy('month').agg({'area':'mean'})\n",
    "spark_df_months"
   ]
  },
  {
   "cell_type": "markdown",
   "metadata": {},
   "source": [
    "Notice how the grouped DataFrame is not returned when you call the aggregation method. Remember, this is still Spark! The transformations and actions are kept separate so that it is easier to manage large quantities of data. You can perform the transformation by making a `collect` method call."
   ]
  },
  {
   "cell_type": "code",
   "execution_count": 11,
   "metadata": {},
   "outputs": [
    {
     "data": {
      "text/plain": [
       "[Row(month='jun', avg(area)=5.841176470588234),\n",
       " Row(month='aug', avg(area)=12.489076086956521),\n",
       " Row(month='may', avg(area)=19.24),\n",
       " Row(month='feb', avg(area)=6.275),\n",
       " Row(month='sep', avg(area)=17.942616279069753),\n",
       " Row(month='mar', avg(area)=4.356666666666667),\n",
       " Row(month='oct', avg(area)=6.638),\n",
       " Row(month='jul', avg(area)=14.3696875),\n",
       " Row(month='nov', avg(area)=0.0),\n",
       " Row(month='apr', avg(area)=8.891111111111112),\n",
       " Row(month='dec', avg(area)=13.33),\n",
       " Row(month='jan', avg(area)=0.0)]"
      ]
     },
     "execution_count": 11,
     "metadata": {},
     "output_type": "execute_result"
    }
   ],
   "source": [
    "spark_df_months.collect()"
   ]
  },
  {
   "cell_type": "markdown",
   "metadata": {},
   "source": [
    "As you can see, there seem to be larger area fires during what would be considered the summer months in Portugal. On your own, practice more aggregations and manipulations that you might be able to perform on this dataset. Now, we'll move on to using the machine learning applications of pyspark. "
   ]
  },
  {
   "cell_type": "markdown",
   "metadata": {},
   "source": [
    "## Boolean Masking\n",
    "Boolean masking also works with pyspark DataFrames just like Pandas DataFrames, the only difference being that the `filter` method is used in pyspark. To try this out, let's compare the amount the fire in those areas with absolutely no rain to those areas that had rain."
   ]
  },
  {
   "cell_type": "code",
   "execution_count": 12,
   "metadata": {},
   "outputs": [],
   "source": [
    "no_rain = spark_df.filter(spark_df['rain'] == 0.0)\n",
    "some_rain = spark_df.filter(spark_df['rain'] > 0.0)"
   ]
  },
  {
   "cell_type": "markdown",
   "metadata": {},
   "source": [
    "Now, to perform calculations to find the mean of a column, we'll have to import functions from `pyspark.sql`. As always, to read more about them, check out the [documentation](https://spark.apache.org/docs/latest/api/python/pyspark.sql.html#module-pyspark.sql.functions)."
   ]
  },
  {
   "cell_type": "code",
   "execution_count": 13,
   "metadata": {},
   "outputs": [
    {
     "name": "stdout",
     "output_type": "stream",
     "text": [
      "+------------------+\n",
      "|         avg(area)|\n",
      "+------------------+\n",
      "|13.023693516699408|\n",
      "+------------------+\n",
      "\n",
      "no rain fire area:  None \n",
      "\n",
      "+---------+\n",
      "|avg(area)|\n",
      "+---------+\n",
      "|  1.62375|\n",
      "+---------+\n",
      "\n",
      "some rain fire area:  None \n",
      "\n"
     ]
    }
   ],
   "source": [
    "from pyspark.sql.functions import mean\n",
    "\n",
    "print('no rain fire area: ',no_rain.select(mean('area')).show(),'\\n')\n",
    "\n",
    "print('some rain fire area: ',some_rain.select(mean('area')).show(),'\\n')"
   ]
  },
  {
   "cell_type": "markdown",
   "metadata": {},
   "source": [
    "Yes there's definitely something there! Unsurprisingly, rain plays in a big factor in the spread of wildfire.\n",
    "\n",
    "Let's try and get obtain data from only the summer months in Portugal (June, July, and August). We can also do the same for the winter months in Portugal (December, January, February)."
   ]
  },
  {
   "cell_type": "code",
   "execution_count": 14,
   "metadata": {},
   "outputs": [
    {
     "name": "stdout",
     "output_type": "stream",
     "text": [
      "+------------------+\n",
      "|         avg(area)|\n",
      "+------------------+\n",
      "|12.262317596566525|\n",
      "+------------------+\n",
      "\n",
      "summer months fire area None\n",
      "+-----------------+\n",
      "|        avg(area)|\n",
      "+-----------------+\n",
      "|7.918387096774193|\n",
      "+-----------------+\n",
      "\n",
      "winter months fire areas None\n"
     ]
    }
   ],
   "source": [
    "summer_months = spark_df.filter(spark_df['month'].isin(['jun','jul','aug']))\n",
    "winter_months = spark_df.filter(spark_df['month'].isin(['dec','jan','feb']))\n",
    "\n",
    "print('summer months fire area', summer_months.select(mean('area')).show())\n",
    "print('winter months fire areas', winter_months.select(mean('area')).show())"
   ]
  },
  {
   "cell_type": "markdown",
   "metadata": {},
   "source": [
    "## Machine Learning\n",
    "\n",
    "Now that we've performed some data manipulation and aggregation, lets get to the really cool stuff, machine learning! Pyspark states that they've used sklearn as an inspiration for their implementation of a machine learning library. As a result, many of the methods and functionalities look similar, but there are some crucial distinctions. There are three main concepts found within the ML library:\n",
    "\n",
    "`Transformer`: An algorithm that transforms one pyspark DataFrame into another DataFrame. \n",
    "\n",
    "`Estimator`: An algorithm that can be fit onto a pyspark DataFrame that can then be used as a Transformer. \n",
    "\n",
    "`Pipeline`: A pipeline very similar to an sklearn pipeline that chains together different actions.\n",
    "\n",
    "The reasoning behind this separation of the fitting and transforming step is because spark is lazily evaluated, so the 'fitting' of a model does not actually take place until the Transformation action is called. Let's examine what this actually looks like by performing a regression on the Forest Fire Dataset. To start off with, we'll import the necessary libraries for our tasks."
   ]
  },
  {
   "cell_type": "code",
   "execution_count": 15,
   "metadata": {},
   "outputs": [],
   "source": [
    "from pyspark.ml.regression import RandomForestRegressor\n",
    "from pyspark.ml import feature\n",
    "from pyspark.ml.feature import StringIndexer, VectorAssembler, OneHotEncoderEstimator"
   ]
  },
  {
   "cell_type": "markdown",
   "metadata": {},
   "source": [
    "Looking at our data, one can see that all the categories are numerical except for day and month. We saw some correlation between the month and area burned in a fire, so we will include that in our model. The day of the week, however, is highly unlikely to have any effect on fire, so we will drop it from the DataFrame."
   ]
  },
  {
   "cell_type": "code",
   "execution_count": 16,
   "metadata": {},
   "outputs": [
    {
     "data": {
      "text/plain": [
       "Row(X=7, Y=5, month='mar', FFMC=86.2, DMC=26.2, DC=94.3, ISI=5.1, temp=8.2, RH=51, wind=6.7, rain=0.0, area=0.0)"
      ]
     },
     "execution_count": 16,
     "metadata": {},
     "output_type": "execute_result"
    }
   ],
   "source": [
    "fire_df = spark_df.drop('day')\n",
    "fire_df.head()"
   ]
  },
  {
   "cell_type": "markdown",
   "metadata": {},
   "source": [
    "In order for us to run our model, we need to turn the months variable into a dummy variable. In `ml` this is a 2-step process that first requires turning the categorical variable into a numerical index (`StringIndexer`). Only after the variable is an int can pyspark create dummy variable columns related to each category (`OneHotEncoderEstimator`). You key parameters you when using these `ml` estimators are: inputCol (the column you want to change) and outputCol (where you will store the changed column). Here it is in action"
   ]
  },
  {
   "cell_type": "code",
   "execution_count": 17,
   "metadata": {},
   "outputs": [],
   "source": [
    "si = StringIndexer(inputCol='month',outputCol='month_num')\n",
    "model = si.fit(fire_df)\n",
    "new_df = model.transform(fire_df)"
   ]
  },
  {
   "cell_type": "markdown",
   "metadata": {},
   "source": [
    "Note the small, but critical distinction between sklearn's implementation of a transformer and pyspark's implementation. sklearn is more object oriented and spark is more functionally based programming."
   ]
  },
  {
   "cell_type": "code",
   "execution_count": 18,
   "metadata": {},
   "outputs": [
    {
     "data": {
      "text/plain": [
       "pyspark.ml.feature.StringIndexer"
      ]
     },
     "execution_count": 18,
     "metadata": {},
     "output_type": "execute_result"
    }
   ],
   "source": [
    "## this is an estimator (an untrained transformer)\n",
    "type(si)"
   ]
  },
  {
   "cell_type": "code",
   "execution_count": 19,
   "metadata": {},
   "outputs": [
    {
     "data": {
      "text/plain": [
       "pyspark.ml.feature.StringIndexerModel"
      ]
     },
     "execution_count": 19,
     "metadata": {},
     "output_type": "execute_result"
    }
   ],
   "source": [
    "## this is a transformer (a trained transformer)\n",
    "type(model)"
   ]
  },
  {
   "cell_type": "code",
   "execution_count": 20,
   "metadata": {},
   "outputs": [
    {
     "data": {
      "text/plain": [
       "['aug',\n",
       " 'sep',\n",
       " 'mar',\n",
       " 'jul',\n",
       " 'feb',\n",
       " 'jun',\n",
       " 'oct',\n",
       " 'apr',\n",
       " 'dec',\n",
       " 'jan',\n",
       " 'may',\n",
       " 'nov']"
      ]
     },
     "execution_count": 20,
     "metadata": {},
     "output_type": "execute_result"
    }
   ],
   "source": [
    "model.labels"
   ]
  },
  {
   "cell_type": "code",
   "execution_count": 21,
   "metadata": {},
   "outputs": [
    {
     "data": {
      "text/plain": [
       "[Row(X=7, Y=5, month='mar', FFMC=86.2, DMC=26.2, DC=94.3, ISI=5.1, temp=8.2, RH=51, wind=6.7, rain=0.0, area=0.0, month_num=2.0),\n",
       " Row(X=7, Y=4, month='oct', FFMC=90.6, DMC=35.4, DC=669.1, ISI=6.7, temp=18.0, RH=33, wind=0.9, rain=0.0, area=0.0, month_num=6.0),\n",
       " Row(X=7, Y=4, month='oct', FFMC=90.6, DMC=43.7, DC=686.9, ISI=6.7, temp=14.6, RH=33, wind=1.3, rain=0.0, area=0.0, month_num=6.0),\n",
       " Row(X=8, Y=6, month='mar', FFMC=91.7, DMC=33.3, DC=77.5, ISI=9.0, temp=8.3, RH=97, wind=4.0, rain=0.2, area=0.0, month_num=2.0)]"
      ]
     },
     "execution_count": 21,
     "metadata": {},
     "output_type": "execute_result"
    }
   ],
   "source": [
    "new_df.head(4)"
   ]
  },
  {
   "cell_type": "code",
   "execution_count": 22,
   "metadata": {},
   "outputs": [
    {
     "data": {
      "text/plain": [
       "Row(X=7, Y=5, month='mar', FFMC=86.2, DMC=26.2, DC=94.3, ISI=5.1, temp=8.2, RH=51, wind=6.7, rain=0.0, area=0.0, month_num=2.0)"
      ]
     },
     "execution_count": 22,
     "metadata": {},
     "output_type": "execute_result"
    }
   ],
   "source": [
    "#\n",
    "# new_df = new_df.drop('month')\n",
    "new_df.head()"
   ]
  },
  {
   "cell_type": "markdown",
   "metadata": {},
   "source": [
    "As you can see, we have created a new column called \"month_num\" that represents the month by a number. Now that we have performed this step, we can use Spark's version of OneHotEncoder. Let's make sure we have an accurate representation of the months."
   ]
  },
  {
   "cell_type": "code",
   "execution_count": 23,
   "metadata": {},
   "outputs": [
    {
     "data": {
      "text/plain": [
       "[Row(month_num=8.0),\n",
       " Row(month_num=0.0),\n",
       " Row(month_num=7.0),\n",
       " Row(month_num=1.0),\n",
       " Row(month_num=4.0),\n",
       " Row(month_num=11.0),\n",
       " Row(month_num=3.0),\n",
       " Row(month_num=2.0),\n",
       " Row(month_num=10.0),\n",
       " Row(month_num=6.0),\n",
       " Row(month_num=5.0),\n",
       " Row(month_num=9.0)]"
      ]
     },
     "execution_count": 23,
     "metadata": {},
     "output_type": "execute_result"
    }
   ],
   "source": [
    "new_df.select('month_num').distinct().collect()"
   ]
  },
  {
   "cell_type": "code",
   "execution_count": 24,
   "metadata": {},
   "outputs": [
    {
     "data": {
      "text/plain": [
       "Row(X=7, Y=5, month='mar', FFMC=86.2, DMC=26.2, DC=94.3, ISI=5.1, temp=8.2, RH=51, wind=6.7, rain=0.0, area=0.0, month_num=2.0, month_vec=SparseVector(11, {2: 1.0}))"
      ]
     },
     "execution_count": 24,
     "metadata": {},
     "output_type": "execute_result"
    }
   ],
   "source": [
    "## fitting and transforming the OneHotEncoder\n",
    "ohe = feature.OneHotEncoderEstimator(inputCols=['month_num'],outputCols=['month_vec'],dropLast=True)\n",
    "one_hot_encoded = ohe.fit(new_df).transform(new_df)\n",
    "one_hot_encoded.head()"
   ]
  },
  {
   "cell_type": "markdown",
   "metadata": {},
   "source": [
    "Great, we now have a OneHotEncoded sparse vector in the month_vec column! Because spark is optimized for big data, sparse vectors are used rather than entirely new columns for dummy variables because it is more space efficient. You can see in this first row of the data frame:  \n",
    "`month_vec=SparseVector(11, {2: 1.0})` this indicates that we have a sparse vector of size 11 (because of the parameter `dropLast = True` in OneHotEncoderEstimator) and this particular datapoint is the 2nd index of our month labels (march, based off the labels in the `model` StringEstimator transformer)  \n",
    "\n",
    "The final requirement for all machine learning models in pyspark is to put all of the features of your model into one Sparse Vector. This is once again for efficiency sake. Here, we are doing that with the `VectorAssembler` estimator."
   ]
  },
  {
   "cell_type": "code",
   "execution_count": 25,
   "metadata": {},
   "outputs": [],
   "source": [
    "features = ['X',\n",
    " 'Y',\n",
    " 'FFMC',\n",
    " 'DMC',\n",
    " 'DC',\n",
    " 'ISI',\n",
    " 'temp',\n",
    " 'RH',\n",
    " 'wind',\n",
    " 'rain',\n",
    " 'month_vec']\n",
    "\n",
    "target = 'area'\n",
    "\n",
    "vector = VectorAssembler(inputCols=features,outputCol='features')\n",
    "vectorized_df = vector.transform(one_hot_encoded)"
   ]
  },
  {
   "cell_type": "code",
   "execution_count": 26,
   "metadata": {},
   "outputs": [
    {
     "data": {
      "text/plain": [
       "Row(X=7, Y=5, month='mar', FFMC=86.2, DMC=26.2, DC=94.3, ISI=5.1, temp=8.2, RH=51, wind=6.7, rain=0.0, area=0.0, month_num=2.0, month_vec=SparseVector(11, {2: 1.0}), features=SparseVector(21, {0: 7.0, 1: 5.0, 2: 86.2, 3: 26.2, 4: 94.3, 5: 5.1, 6: 8.2, 7: 51.0, 8: 6.7, 12: 1.0}))"
      ]
     },
     "execution_count": 26,
     "metadata": {},
     "output_type": "execute_result"
    }
   ],
   "source": [
    "vectorized_df.head()"
   ]
  },
  {
   "cell_type": "markdown",
   "metadata": {},
   "source": [
    "Great! We now have our data in a format that seems acceptable for the last step. Now it's time for us to actually fit our model to data! Let's try and fit a Random Forest Regression model our data. Although there are still a bunch of other features in the DataFrame, it doesn't matter for the machine learning model API. All that needs to be specified are the names of the features column and the label column. Let's fit use Random Forest Regression to fit the model here."
   ]
  },
  {
   "cell_type": "code",
   "execution_count": 27,
   "metadata": {},
   "outputs": [],
   "source": [
    "## instantiating and fitting the model\n",
    "rf_model = RandomForestRegressor(featuresCol='features',labelCol='area',predictionCol=\"prediction\").fit(vectorized_df)"
   ]
  },
  {
   "cell_type": "code",
   "execution_count": 28,
   "metadata": {},
   "outputs": [
    {
     "data": {
      "text/plain": [
       "SparseVector(21, {0: 0.1005, 1: 0.0524, 2: 0.1265, 3: 0.1482, 4: 0.054, 5: 0.1115, 6: 0.1446, 7: 0.1107, 8: 0.1159, 9: 0.0, 10: 0.0063, 11: 0.0135, 12: 0.0004, 13: 0.0102, 14: 0.0001, 15: 0.0005, 16: 0.0015, 17: 0.001, 18: 0.0, 19: 0.0, 20: 0.0023})"
      ]
     },
     "execution_count": 28,
     "metadata": {},
     "output_type": "execute_result"
    }
   ],
   "source": [
    "rf_model.featureImportances"
   ]
  },
  {
   "cell_type": "code",
   "execution_count": 29,
   "metadata": {},
   "outputs": [
    {
     "data": {
      "text/plain": [
       "[Row(area=0.0, prediction=6.671688244451753),\n",
       " Row(area=0.0, prediction=5.591078412882284),\n",
       " Row(area=0.0, prediction=5.526706174153599),\n",
       " Row(area=0.0, prediction=4.242511640292038),\n",
       " Row(area=0.0, prediction=4.406934564606256),\n",
       " Row(area=0.0, prediction=8.644676807865105),\n",
       " Row(area=0.0, prediction=4.306163719217382),\n",
       " Row(area=0.0, prediction=4.493787641713709),\n",
       " Row(area=0.0, prediction=7.8060554294030124),\n",
       " Row(area=0.0, prediction=5.769508438824582)]"
      ]
     },
     "execution_count": 29,
     "metadata": {},
     "output_type": "execute_result"
    }
   ],
   "source": [
    "## generating predictions\n",
    "predictions = rf_model.transform(vectorized_df).select(\"area\",\"prediction\")\n",
    "predictions.head(10)"
   ]
  },
  {
   "cell_type": "markdown",
   "metadata": {},
   "source": [
    "Now we can evaluate how well the model performed using `RegressionEvaluator`."
   ]
  },
  {
   "cell_type": "code",
   "execution_count": 30,
   "metadata": {},
   "outputs": [],
   "source": [
    "from pyspark.ml.evaluation import RegressionEvaluator\n",
    "evaluator = RegressionEvaluator(predictionCol='prediction', labelCol='area')"
   ]
  },
  {
   "cell_type": "code",
   "execution_count": 31,
   "metadata": {},
   "outputs": [
    {
     "data": {
      "text/plain": [
       "0.5489470800641141"
      ]
     },
     "execution_count": 31,
     "metadata": {},
     "output_type": "execute_result"
    }
   ],
   "source": [
    "## evaluating r^2\n",
    "evaluator.evaluate(predictions,{evaluator.metricName:\"r2\"})"
   ]
  },
  {
   "cell_type": "code",
   "execution_count": 32,
   "metadata": {},
   "outputs": [
    {
     "data": {
      "text/plain": [
       "12.995664273108517"
      ]
     },
     "execution_count": 32,
     "metadata": {},
     "output_type": "execute_result"
    }
   ],
   "source": [
    "## evaluating mean absolute error\n",
    "evaluator.evaluate(predictions,{evaluator.metricName:\"mae\"})"
   ]
  },
  {
   "cell_type": "markdown",
   "metadata": {},
   "source": [
    "## Putting it all in a Pipeline\n",
    "\n",
    "We just performed a whole lot of transformations to our data. Let's take a look at all the estimators we used to create this model:\n",
    "\n",
    "* StringIndexer\n",
    "* OneHotEnconderEstimator\n",
    "* VectorAssembler\n",
    "* RandomForestRegressor\n",
    "\n",
    "Once we've fit our model in the Pipeline, we're then going to want to evaluate it to determine how well it performs. We can do this with:\n",
    "\n",
    "* RegressionEvaluator\n",
    "\n",
    "\n",
    "We can streamline all of these transformations to make it all much more efficient by chaining them together in a pipeline. The Pipeline object expects a list of the estimators prior set to the parameter `stages`."
   ]
  },
  {
   "cell_type": "code",
   "execution_count": 33,
   "metadata": {},
   "outputs": [],
   "source": [
    "# importing relevant libraries\n",
    "from pyspark.ml.tuning import ParamGridBuilder, TrainValidationSplit, CrossValidator\n",
    "from pyspark.ml import Pipeline"
   ]
  },
  {
   "cell_type": "code",
   "execution_count": 34,
   "metadata": {},
   "outputs": [],
   "source": [
    "## instantiating all necessary estimator objects\n",
    "\n",
    "string_indexer = StringIndexer(inputCol='month',outputCol='month_num',handleInvalid='keep')\n",
    "one_hot_encoder = OneHotEncoderEstimator(inputCols=['month_num'],outputCols=['month_vec'],dropLast=True)\n",
    "vector_assember = VectorAssembler(inputCols=features,outputCol='features')\n",
    "random_forest = RandomForestRegressor(featuresCol='features',labelCol='area')\n",
    "stages =  [string_indexer, one_hot_encoder, vector_assember,random_forest]\n",
    "\n",
    "# instantiating the pipeline with all them estimator objects\n",
    "pipeline = Pipeline(stages=stages)"
   ]
  },
  {
   "cell_type": "markdown",
   "metadata": {},
   "source": [
    "### Cross Validation\n",
    "You might have missed a critical step in the Random Forest Regression above; we did not cross validate or perform a train/test split! Now we're going to fix that by performing cross validation and also testing out multiple different combinations of parameters in pyspark's GridSearch equivalent. To begin with, we will create a parameter grid that contains the different parameters we want to use in our model."
   ]
  },
  {
   "cell_type": "code",
   "execution_count": 35,
   "metadata": {},
   "outputs": [],
   "source": [
    "# creating parameter grid\n",
    "\n",
    "params = ParamGridBuilder()\\\n",
    ".addGrid(random_forest.maxDepth, [5,10,15])\\\n",
    ".addGrid(random_forest.numTrees, [20,50,100])\\\n",
    ".build()"
   ]
  },
  {
   "cell_type": "markdown",
   "metadata": {},
   "source": [
    "Let's take a look at the params variable we just built."
   ]
  },
  {
   "cell_type": "code",
   "execution_count": 36,
   "metadata": {},
   "outputs": [
    {
     "name": "stdout",
     "output_type": "stream",
     "text": [
      "total combinations of parameters:  9\n"
     ]
    },
    {
     "data": {
      "text/plain": [
       "{Param(parent='RandomForestRegressor_ee055cc76b87', name='maxDepth', doc='Maximum depth of the tree. (>= 0) E.g., depth 0 means 1 leaf node; depth 1 means 1 internal node + 2 leaf nodes.'): 5,\n",
       " Param(parent='RandomForestRegressor_ee055cc76b87', name='numTrees', doc='Number of trees to train (>= 1).'): 20}"
      ]
     },
     "execution_count": 36,
     "metadata": {},
     "output_type": "execute_result"
    }
   ],
   "source": [
    "print('total combinations of parameters: ',len(params))\n",
    "\n",
    "params[0]"
   ]
  },
  {
   "cell_type": "markdown",
   "metadata": {},
   "source": [
    "Now it's time to combine all the steps we've created to work in a single line of code with the CrossValidator estimator."
   ]
  },
  {
   "cell_type": "code",
   "execution_count": 37,
   "metadata": {},
   "outputs": [],
   "source": [
    "## instantiating the evaluator by which we will measure our model's performance\n",
    "reg_evaluator = RegressionEvaluator(predictionCol='prediction', labelCol='area',metricName = 'mae')\n",
    "## instantiating crossvalidator estimator\n",
    "cv = CrossValidator(estimator=pipeline, estimatorParamMaps=params,evaluator=reg_evaluator,parallelism=4)"
   ]
  },
  {
   "cell_type": "code",
   "execution_count": 38,
   "metadata": {},
   "outputs": [],
   "source": [
    "## fitting crossvalidator\n",
    "cross_validated_model = cv.fit(fire_df)"
   ]
  },
  {
   "cell_type": "markdown",
   "metadata": {},
   "source": [
    "Now, let's see how well the model performed! Let's take a look at the average performance for each one of our 9 models. It looks like the optimal performance is an MAE around 23. Note that this is worse than our original model, but that's because our original model had substantial data leakage. We didn't do a train-test-split!"
   ]
  },
  {
   "cell_type": "code",
   "execution_count": 39,
   "metadata": {
    "scrolled": true
   },
   "outputs": [
    {
     "data": {
      "text/plain": [
       "[21.838678498324082,\n",
       " 21.73389752738812,\n",
       " 20.486913638789556,\n",
       " 23.335503187183807,\n",
       " 22.561917523670324,\n",
       " 21.365915076328783,\n",
       " 23.45301331019594,\n",
       " 22.632527470759978,\n",
       " 21.44893812829444]"
      ]
     },
     "execution_count": 39,
     "metadata": {},
     "output_type": "execute_result"
    }
   ],
   "source": [
    "cross_validated_model.avgMetrics"
   ]
  },
  {
   "cell_type": "markdown",
   "metadata": {},
   "source": [
    "Now, let's take a look at the optimal parameters of our best performing model. The cross_validated_model variable is now saved as the best performing model from the grid search just performed. Let's look to see how well the predictions performed. As you can see, this dataset has a large number of areas of \"0.0\" burned. Perhaps, it would be better to investigate this problem as a classification task."
   ]
  },
  {
   "cell_type": "code",
   "execution_count": 40,
   "metadata": {},
   "outputs": [
    {
     "name": "stdout",
     "output_type": "stream",
     "text": [
      "+------------------+-------+\n",
      "|        prediction|   area|\n",
      "+------------------+-------+\n",
      "| 7.115122191419235|    0.0|\n",
      "| 5.173354487352998|    0.0|\n",
      "| 5.887629903356417|    0.0|\n",
      "| 6.092769150768354|    0.0|\n",
      "| 5.830836180149623|    0.0|\n",
      "| 8.477185783001612|    0.0|\n",
      "| 6.986781808139694|    0.0|\n",
      "|7.3289968411390385|    0.0|\n",
      "| 8.142291712702233|    0.0|\n",
      "| 9.044367021792846|    0.0|\n",
      "| 5.871539439579511|    0.0|\n",
      "| 6.818051639833035|    0.0|\n",
      "|5.5489677669715425|    0.0|\n",
      "| 8.902749862517362|    0.0|\n",
      "| 40.68283456390488|    0.0|\n",
      "| 7.564103913621758|    0.0|\n",
      "| 4.675363967433586|    0.0|\n",
      "| 7.858702314878382|    0.0|\n",
      "| 4.834546926120682|    0.0|\n",
      "| 5.387136169009445|    0.0|\n",
      "| 9.056471643510676|    0.0|\n",
      "| 5.022349545055924|    0.0|\n",
      "| 6.415977990426615|    0.0|\n",
      "|  8.59703652769575|    0.0|\n",
      "|  8.72722929042818|    0.0|\n",
      "| 6.754929092448258|    0.0|\n",
      "| 7.617996469371715|    0.0|\n",
      "|10.954554346544876|    0.0|\n",
      "|13.445963309462893|    0.0|\n",
      "| 9.351675049123392|    0.0|\n",
      "|32.202112469677964|    0.0|\n",
      "| 6.537757225210011|    0.0|\n",
      "| 7.140090726288969|    0.0|\n",
      "| 5.600828945252604|    0.0|\n",
      "| 5.382742266495845|    0.0|\n",
      "| 6.112515491171697|    0.0|\n",
      "| 17.22267795478033|    0.0|\n",
      "| 6.244438784024094|    0.0|\n",
      "|16.963097107889137|    0.0|\n",
      "| 4.458828463120001|    0.0|\n",
      "| 16.84530072210321|    0.0|\n",
      "| 4.181714236251252|    0.0|\n",
      "| 4.351950144819866|    0.0|\n",
      "| 6.386200690673022|    0.0|\n",
      "| 5.791259997253442|    0.0|\n",
      "| 36.42648734739311|    0.0|\n",
      "| 6.836018898276841|    0.0|\n",
      "|  6.77667933300183|    0.0|\n",
      "| 4.448678324071744|    0.0|\n",
      "|  6.49386225633413|    0.0|\n",
      "|13.203816982011787|    0.0|\n",
      "| 5.076898169233393|    0.0|\n",
      "| 4.441400980221228|    0.0|\n",
      "| 4.441400980221228|    0.0|\n",
      "| 5.227801132128857|    0.0|\n",
      "|11.219814437872238|    0.0|\n",
      "| 5.697574831127733|    0.0|\n",
      "|5.9072307781120355|    0.0|\n",
      "| 5.703500021927104|    0.0|\n",
      "| 4.748485308788731|    0.0|\n",
      "|3.7985758505941463|    0.0|\n",
      "| 4.367237650151955|    0.0|\n",
      "| 6.685120179101458|    0.0|\n",
      "|  4.32793563453047|    0.0|\n",
      "| 6.412515688268338|    0.0|\n",
      "| 7.873902452733009|    0.0|\n",
      "|11.190970925156591|    0.0|\n",
      "|  9.35564972616693|    0.0|\n",
      "|10.331653093427153|    0.0|\n",
      "| 4.606281229042863|    0.0|\n",
      "| 5.011294675483052|    0.0|\n",
      "|5.7962379809893525|    0.0|\n",
      "| 4.286953990470607|    0.0|\n",
      "|7.7609735750380535|    0.0|\n",
      "| 8.690872110219168|    0.0|\n",
      "| 8.155701366468968|    0.0|\n",
      "|  9.78361360468284|    0.0|\n",
      "| 5.651809437837634|    0.0|\n",
      "| 4.541839023624093|    0.0|\n",
      "|10.498571470830543|    0.0|\n",
      "| 7.495356535290427|    0.0|\n",
      "| 10.70253523575339|    0.0|\n",
      "| 6.328280939696797|    0.0|\n",
      "| 8.665328568536575|    0.0|\n",
      "|  8.37982201713071|    0.0|\n",
      "|17.724295573786122|    0.0|\n",
      "|12.337896326416251|    0.0|\n",
      "| 20.88047601502334|    0.0|\n",
      "|25.965539981086845|    0.0|\n",
      "| 5.076446372468865|    0.0|\n",
      "|4.5970858047177146|    0.0|\n",
      "| 5.900873601682153|    0.0|\n",
      "|10.009653840478899|    0.0|\n",
      "|10.593820961062477|    0.0|\n",
      "| 9.164691401486861|    0.0|\n",
      "|5.4024992304037145|    0.0|\n",
      "|  4.27864760369722|    0.0|\n",
      "| 4.479776896272792|    0.0|\n",
      "| 5.161223576130641|    0.0|\n",
      "| 5.864752490736825|    0.0|\n",
      "| 5.864752490736825|    0.0|\n",
      "| 7.413972854061001|    0.0|\n",
      "| 4.911674580480649|    0.0|\n",
      "|14.594428977643274|    0.0|\n",
      "| 4.956700243577778|    0.0|\n",
      "| 5.067870837891256|    0.0|\n",
      "| 5.221427066111849|    0.0|\n",
      "| 4.954079950107498|    0.0|\n",
      "| 6.234178906055219|    0.0|\n",
      "| 5.711248087989348|    0.0|\n",
      "| 5.058385853497067|    0.0|\n",
      "| 5.415498898012516|    0.0|\n",
      "| 6.630988794937021|    0.0|\n",
      "| 4.767460749427884|    0.0|\n",
      "|4.4485395450630065|    0.0|\n",
      "| 4.099124536210167|    0.0|\n",
      "| 4.863612862464397|    0.0|\n",
      "|4.4685442481765785|    0.0|\n",
      "| 4.384938961306171|    0.0|\n",
      "| 5.298666618009218|    0.0|\n",
      "|  5.01804933650234|    0.0|\n",
      "| 4.968082351332052|    0.0|\n",
      "| 7.537478480846414|    0.0|\n",
      "| 7.350822085956223|    0.0|\n",
      "| 6.247874829035786|    0.0|\n",
      "| 5.289258940200131|    0.0|\n",
      "| 4.460578021503715|    0.0|\n",
      "| 7.758083787009695|    0.0|\n",
      "|4.6932361485235825|    0.0|\n",
      "| 5.042333906030162|    0.0|\n",
      "|  5.07266761722735|    0.0|\n",
      "|  4.63399979095885|    0.0|\n",
      "| 4.485105146090873|    0.0|\n",
      "|6.0773651870746415|    0.0|\n",
      "| 3.896824775085034|    0.0|\n",
      "| 7.967269511981816|    0.0|\n",
      "| 8.134840642757943|    0.0|\n",
      "| 6.879999896341285|    0.0|\n",
      "|12.311915619652927|   0.36|\n",
      "|15.707846720707167|   0.43|\n",
      "|  8.45888752126351|   0.47|\n",
      "| 4.337020690664168|   0.55|\n",
      "| 17.60807326548296|   0.61|\n",
      "| 3.220330101821924|   0.71|\n",
      "| 4.008622725276767|   0.77|\n",
      "| 48.36347528984578|    0.9|\n",
      "| 4.848448649171346|   0.95|\n",
      "|  16.9984849198669|   0.96|\n",
      "| 5.119963884665979|   1.07|\n",
      "|10.819462505577665|   1.12|\n",
      "| 9.037463544554944|   1.19|\n",
      "|15.836229112287544|   1.36|\n",
      "| 8.192710822764527|   1.43|\n",
      "| 6.109725251717411|   1.46|\n",
      "|24.700673094701983|   1.46|\n",
      "| 4.882463015223734|   1.56|\n",
      "| 11.24805071473775|   1.61|\n",
      "| 4.775993012331659|   1.63|\n",
      "| 4.034322000036849|   1.64|\n",
      "| 7.617996469371715|   1.69|\n",
      "| 6.330781510036457|   1.75|\n",
      "| 5.658628177941159|    1.9|\n",
      "| 5.649257948544122|   1.94|\n",
      "|26.431436332964235|   1.95|\n",
      "| 6.934747584353413|   2.01|\n",
      "| 5.436771671303476|   2.14|\n",
      "| 4.160834105296172|   2.29|\n",
      "|5.6677228949317255|   2.51|\n",
      "|  8.23273982755107|   2.53|\n",
      "|12.513352951875364|   2.55|\n",
      "|   7.2530901484473|   2.57|\n",
      "| 8.515363376706286|   2.69|\n",
      "| 8.948655566097022|   2.74|\n",
      "| 7.497657603765176|   3.07|\n",
      "| 5.545444456185172|    3.5|\n",
      "| 4.136295981895034|   4.53|\n",
      "| 6.345941073168948|   4.61|\n",
      "| 4.581192142089692|   4.69|\n",
      "| 5.287448187888873|   4.88|\n",
      "|10.859004198599134|   5.23|\n",
      "| 8.226691706098654|   5.33|\n",
      "| 9.566007444285818|   5.44|\n",
      "| 4.875154493463574|   6.38|\n",
      "|7.8923915586155795|   6.83|\n",
      "| 8.723541715397298|   6.96|\n",
      "|  8.12545606299127|   7.04|\n",
      "|  7.02359064712128|   7.19|\n",
      "| 16.45217611643482|    7.3|\n",
      "| 4.505857642055533|    7.4|\n",
      "| 6.069719781231271|   8.24|\n",
      "| 5.655886776305324|   8.31|\n",
      "| 6.514330888332844|   8.68|\n",
      "| 6.409563227290229|   8.71|\n",
      "| 35.37663678261583|   9.41|\n",
      "| 6.409563227290229|  10.01|\n",
      "| 5.866027768744938|  10.02|\n",
      "| 6.345941073168948|  10.93|\n",
      "| 14.56602718383093|  11.06|\n",
      "| 7.458445900133265|  11.24|\n",
      "|11.917660713531575|  11.32|\n",
      "|15.795146510897984|  11.53|\n",
      "| 4.939324083488353|   12.1|\n",
      "| 6.302294718946127|  13.05|\n",
      "|  9.54423031903705|   13.7|\n",
      "| 5.247502275191639|  13.99|\n",
      "|  8.04267681286866|  14.57|\n",
      "|10.111971453785237|  15.45|\n",
      "|10.493739942156227|   17.2|\n",
      "| 7.654062674614632|  19.23|\n",
      "|12.313959491599196|  23.41|\n",
      "| 8.065826152405291|  24.23|\n",
      "|11.477980859200164|   26.0|\n",
      "| 6.733110528617505|  26.13|\n",
      "| 8.432815049249156|  27.35|\n",
      "|5.4303531962414615|  28.66|\n",
      "|5.4303531962414615|  28.66|\n",
      "| 8.856151531423063|  29.48|\n",
      "| 8.018820713959885|  30.32|\n",
      "|15.566372408412754|  31.72|\n",
      "| 6.271354992426076|  31.86|\n",
      "| 8.536271827333266|  32.07|\n",
      "| 8.598074180345785|  35.88|\n",
      "|6.6686064520085235|  36.85|\n",
      "|14.838663740936537|  37.02|\n",
      "| 6.887256069417614|  37.71|\n",
      "| 9.898790993287047|  48.55|\n",
      "|  9.12279282734528|  49.37|\n",
      "|16.506414979520816|   58.3|\n",
      "|51.375663635066374|   64.1|\n",
      "| 17.29576747686228|   71.3|\n",
      "| 36.63102741458343|  88.49|\n",
      "|40.802968511945416|  95.18|\n",
      "|12.154915310342693| 103.39|\n",
      "| 62.25842874843889| 105.66|\n",
      "|  111.717871928367| 154.88|\n",
      "|39.006290693517165| 196.48|\n",
      "|  77.8371174271792| 200.94|\n",
      "| 70.04059621482057| 212.88|\n",
      "| 695.6844359188399|1090.84|\n",
      "| 5.523264572121784|    0.0|\n",
      "|  5.37400062594481|    0.0|\n",
      "|7.4410033647608085|    0.0|\n",
      "| 5.840460198633178|  10.13|\n",
      "| 6.481176903647363|    0.0|\n",
      "|6.2044870428494985|   2.87|\n",
      "|15.998569511893141|   0.76|\n",
      "| 17.96010382865229|   0.09|\n",
      "| 5.111941873898564|   0.75|\n",
      "|  9.06715087519887|    0.0|\n",
      "| 5.717799801181396|   2.47|\n",
      "| 11.68207246246972|   0.68|\n",
      "|7.8264146621457416|   0.24|\n",
      "|  5.59148962932248|   0.21|\n",
      "| 5.960767682682977|   1.52|\n",
      "| 7.666780963900387|  10.34|\n",
      "|11.070483757118291|    0.0|\n",
      "|  9.37190366083059|   8.02|\n",
      "| 4.819398938955683|   0.68|\n",
      "| 5.420183023528077|    0.0|\n",
      "| 5.515833631047914|   1.38|\n",
      "|6.0839046167404796|   8.85|\n",
      "| 4.687915429561848|    3.3|\n",
      "| 4.754654124718074|   4.25|\n",
      "| 8.724870964627943|   1.56|\n",
      "| 6.942764306529902|   6.54|\n",
      "| 5.295757759786927|   0.79|\n",
      "| 7.222866001919508|   0.17|\n",
      "| 8.047564682620441|    0.0|\n",
      "| 5.146855358909452|    0.0|\n",
      "|  5.56885476195991|    4.4|\n",
      "| 6.388963654582266|   0.52|\n",
      "| 9.803036885421774|   9.27|\n",
      "| 5.631444292837515|   3.09|\n",
      "| 8.179819549689672|   8.98|\n",
      "|10.926544222759619|  11.19|\n",
      "| 6.675354133726585|   5.38|\n",
      "|11.917513967761828|  17.85|\n",
      "|11.204129688901594|  10.73|\n",
      "|11.917513967761828|  22.03|\n",
      "|11.917513967761828|   9.77|\n",
      "| 6.801028932623008|   9.27|\n",
      "|11.868267137643953|  24.77|\n",
      "| 6.087971761708078|    0.0|\n",
      "|   4.1298477513918|    1.1|\n",
      "| 7.627040978928464|  24.24|\n",
      "|11.301330402719923|    0.0|\n",
      "|14.680904285273431|    0.0|\n",
      "|  6.69284585494971|    0.0|\n",
      "| 5.590516393769899|    0.0|\n",
      "| 5.153510811940306|    0.0|\n",
      "| 5.486783387711845|    0.0|\n",
      "|11.517160975651311|    8.0|\n",
      "|  5.90308343708138|   2.64|\n",
      "| 45.45422120843894|  86.45|\n",
      "|  8.34051393962709|   6.57|\n",
      "| 8.154188762407758|    0.0|\n",
      "| 4.982418180974953|    0.9|\n",
      "| 6.801792038728884|    0.0|\n",
      "|10.476430314245027|    0.0|\n",
      "| 5.215439031462332|    0.0|\n",
      "+------------------+-------+\n",
      "only showing top 300 rows\n",
      "\n"
     ]
    }
   ],
   "source": [
    "predictions = cross_validated_model.transform(spark_df)\n",
    "predictions.select('prediction','area').show(300)"
   ]
  },
  {
   "cell_type": "markdown",
   "metadata": {},
   "source": [
    "Now let's go ahead and take a look at the feature importances of our Random Forest model. In order to do this, we need to unroll our pipeline to access the Random Forest Model. Let's start by first checking out the \"bestModel\" attribute of our cross_validated_model."
   ]
  },
  {
   "cell_type": "code",
   "execution_count": 41,
   "metadata": {
    "slideshow": {
     "slide_type": "slide"
    }
   },
   "outputs": [
    {
     "data": {
      "text/plain": [
       "pyspark.ml.pipeline.PipelineModel"
      ]
     },
     "execution_count": 41,
     "metadata": {},
     "output_type": "execute_result"
    }
   ],
   "source": [
    "type(cross_validated_model.bestModel)"
   ]
  },
  {
   "cell_type": "markdown",
   "metadata": {},
   "source": [
    "`ml` is treating the entire pipeline as the best performing model, so we need to go deeper into the pipeline to access the Random Forest model within it. Previously, we put the Random Forest Model as the final \"stage\" in the stages variable list. Let's look at the stages attribute of the bestModel."
   ]
  },
  {
   "cell_type": "code",
   "execution_count": 42,
   "metadata": {},
   "outputs": [
    {
     "data": {
      "text/plain": [
       "[StringIndexer_92edfc52e263,\n",
       " OneHotEncoderEstimator_656641c68e1b,\n",
       " VectorAssembler_3f90f9e3cd60,\n",
       " RandomForestRegressionModel (uid=RandomForestRegressor_ee055cc76b87) with 100 trees]"
      ]
     },
     "execution_count": 42,
     "metadata": {},
     "output_type": "execute_result"
    }
   ],
   "source": [
    "cross_validated_model.bestModel.stages"
   ]
  },
  {
   "cell_type": "markdown",
   "metadata": {},
   "source": [
    "Perfect! There's the RandomForestRegressionModel, represented by the last item in the stages list. Now, we should be able to access all the attributes of the Random Forest Regressor."
   ]
  },
  {
   "cell_type": "code",
   "execution_count": 43,
   "metadata": {},
   "outputs": [],
   "source": [
    "optimal_rf_model = cross_validated_model.bestModel.stages[3]"
   ]
  },
  {
   "cell_type": "code",
   "execution_count": 44,
   "metadata": {},
   "outputs": [
    {
     "data": {
      "text/plain": [
       "SparseVector(22, {0: 0.124, 1: 0.0628, 2: 0.1315, 3: 0.1438, 4: 0.1005, 5: 0.0421, 6: 0.0982, 7: 0.1309, 8: 0.1166, 9: 0.0, 10: 0.0116, 11: 0.0197, 12: 0.0001, 13: 0.0173, 14: 0.0, 15: 0.0001, 16: 0.0, 17: 0.0002, 18: 0.0001, 19: 0.0, 20: 0.0004})"
      ]
     },
     "execution_count": 44,
     "metadata": {},
     "output_type": "execute_result"
    }
   ],
   "source": [
    "optimal_rf_model.featureImportances"
   ]
  },
  {
   "cell_type": "code",
   "execution_count": 45,
   "metadata": {},
   "outputs": [
    {
     "data": {
      "text/plain": [
       "100"
      ]
     },
     "execution_count": 45,
     "metadata": {},
     "output_type": "execute_result"
    }
   ],
   "source": [
    "optimal_rf_model.getNumTrees"
   ]
  },
  {
   "cell_type": "markdown",
   "metadata": {},
   "source": [
    "## Summary\n",
    "\n",
    "In this lesson, you have learned about pyspark's DataFrames, machine learning models, and pipelines. With the use of a pipeline, you can train a huge number of models simultaneously, saving you a substantial amount of time and effort. Up next, you will have a chance to build a pyspark machine learning pipeline of your own with a classification problem!"
   ]
  }
 ],
 "metadata": {
  "kernelspec": {
   "display_name": "Python 3",
   "language": "python",
   "name": "python3"
  },
  "language_info": {
   "codemirror_mode": {
    "name": "ipython",
    "version": 3
   },
   "file_extension": ".py",
   "mimetype": "text/x-python",
   "name": "python",
   "nbconvert_exporter": "python",
   "pygments_lexer": "ipython3",
   "version": "3.7.3"
  }
 },
 "nbformat": 4,
 "nbformat_minor": 2
}
